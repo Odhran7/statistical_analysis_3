{
 "cells": [
  {
   "cell_type": "markdown",
   "metadata": {},
   "source": [
    "This file is used to architect the data for a neural network"
   ]
  },
  {
   "cell_type": "code",
   "execution_count": 3,
   "metadata": {},
   "outputs": [
    {
     "name": "stdout",
     "output_type": "stream",
     "text": [
      "Number of Trump counties:  2524\n",
      "Number of Biden counties:  503\n"
     ]
    }
   ],
   "source": [
    "import pandas as pd \n",
    "\n",
    "original_df = pd.read_csv('../data/data_election_2020.csv')\n",
    "\n",
    "\n",
    "num_trump = len(original_df[original_df['majority'] == 'Trump'])\n",
    "num_biden = len(original_df[original_df['majority'] == 'Biden'])\n",
    "\n",
    "print('Number of Trump counties: ', num_trump)\n",
    "print('Number of Biden counties: ', num_biden)"
   ]
  },
  {
   "cell_type": "markdown",
   "metadata": {},
   "source": [
    "Merge the two datasets"
   ]
  },
  {
   "cell_type": "code",
   "execution_count": 7,
   "metadata": {},
   "outputs": [],
   "source": [
    "new_df = pd.read_csv('../data/county_to_be_merged.csv')\n",
    "merged_df = pd.merge(original_df, new_df, left_index=True, right_index=True)\n",
    "merged_df.to_csv('../data/merged_data_2020_election.csv', index=False)\n"
   ]
  },
  {
   "cell_type": "markdown",
   "metadata": {},
   "source": [
    "Examining the data"
   ]
  },
  {
   "cell_type": "code",
   "execution_count": 9,
   "metadata": {},
   "outputs": [
    {
     "name": "stdout",
     "output_type": "stream",
     "text": [
      "  `\"state\"   county majority  trump16  clinton16  otherpres16  romney12   \n",
      "0  Alabama  Autauga    Trump    18172       5936          865     17379  \\\n",
      "1  Alabama  Baldwin    Trump    72883      18458         3874     66016   \n",
      "2  Alabama  Barbour    Trump     5454       4871          144      5550   \n",
      "3  Alabama     Bibb    Trump     6738       1874          207      6132   \n",
      "4  Alabama   Blount    Trump    22859       2156          573     20757   \n",
      "\n",
      "   obama12  otherpres12  demsen16  ...  poverty_under_18_2019   \n",
      "0     6363          190    6331.0  ...                   23.2  \\\n",
      "1    18424          898   19145.0  ...                   13.4   \n",
      "2     5912           47    4777.0  ...                   50.1   \n",
      "3     2202           86    2082.0  ...                    NaN   \n",
      "4     2970          279    2980.0  ...                   18.4   \n",
      "\n",
      "   two_plus_races_2019  unemployment_rate_2019  uninsured_2019   \n",
      "0                  2.2                     3.5             7.1  \\\n",
      "1                  1.7                     4.0             8.9   \n",
      "2                  1.2                     9.4            11.3   \n",
      "3                  0.6                     7.0            10.7   \n",
      "4                  1.6                     3.1            10.8   \n",
      "\n",
      "   uninsured_65_and_older_2019  uninsured_under_19_2019   \n",
      "0                          0.0                      1.7  \\\n",
      "1                          0.3                      3.8   \n",
      "2                          0.3                      3.3   \n",
      "3                          0.0                      2.0   \n",
      "4                          0.2                      5.9   \n",
      "\n",
      "   uninsured_under_6_2019  veterans_2019  white_2019  white_not_hispanic_2019  \n",
      "0                     1.7           12.6        76.8                     74.6  \n",
      "1                     2.2           11.8        86.2                     83.1  \n",
      "2                     3.4            6.6        46.8                     45.8  \n",
      "3                     4.5            8.0        76.8                     74.5  \n",
      "4                     6.1            7.7        95.5                     86.9  \n",
      "\n",
      "[5 rows x 118 columns]\n",
      "Number of columns 118\n",
      "['`\"state\"', 'county', 'majority', 'trump16', 'clinton16', 'otherpres16', 'romney12', 'obama12', 'otherpres12', 'demsen16', 'repsen16', 'othersen16', 'demhouse16', 'rephouse16', 'otherhouse16', 'total_population', 'cvap', 'white_pct', 'black_pct', 'hispanic_pct', 'nonwhite_pct', 'foreignborn_pct', 'female_pct', 'age29andunder_pct', 'age65andolder_pct', 'median_hh_inc', 'clf_unemploy_pct', 'lesshs_pct', 'lesscollege_pct', 'lesshs_whites_pct', 'lesscollege_whites_pct', 'rural_pct', 'fips', 'state', 'name', 'age_under_5_2017', 'age_over_65_2017', 'median_age_2017', 'female_2010', 'white_2010', 'black_2017', 'native_2017', 'asian_2017', 'pac_isl_2017', 'other_single_race_2017', 'two_plus_races_2017', 'hispanic_2017', 'white_not_hispanic_2017', 'speak_english_only_2017', 'women_16_to_50_birth_rate_2017', 'hs_grad_2017', 'some_college_2017', 'bachelors_2017', 'veterans_2017', 'mean_work_travel_2017', 'broadband_2017', 'computer_2017', 'households_2017', 'persons_per_household_2017', 'per_capita_income_2017', 'median_household_income_2017', 'poverty_2017', 'poverty_age_under_5_2017', 'poverty_age_under_18_2017', 'uninsured_2017', 'uninsured_age_under_6_2017', 'uninsured_age_under_19_2017', 'uninsured_age_over_74_2017', 'civilian_labor_force_2017', 'employed_2017', 'unemployed_2017', 'unemployment_rate_2017', 'age_over_18_2019', 'age_over_65_2019', 'age_over_85_2019', 'age_under_5_2019', 'asian_2019', 'avg_family_size_2019', 'bachelors_2019', 'black_2019', 'hispanic_2019', 'household_has_broadband_2019', 'household_has_computer_2019', 'household_has_smartphone_2019', 'households_2019', 'households_speak_asian_or_pac_isl_2019', 'households_speak_limited_english_2019', 'households_speak_other_2019', 'households_speak_other_indo_euro_lang_2019', 'households_speak_spanish_2019', 'housing_mobile_homes_2019', 'housing_one_unit_structures_2019', 'housing_two_unit_structures_2019', 'hs_grad_2019', 'mean_household_income_2019', 'mean_work_travel_2019', 'median_age_2019', 'median_household_income_2019', 'median_individual_income_2019', 'median_individual_income_age_25plus_2019', 'native_2019', 'other_single_race_2019', 'pac_isl_2019', 'per_capita_income_2019', 'persons_per_household_2019', 'pop_2019', 'poverty_2019', 'poverty_65_and_over_2019', 'poverty_under_18_2019', 'two_plus_races_2019', 'unemployment_rate_2019', 'uninsured_2019', 'uninsured_65_and_older_2019', 'uninsured_under_19_2019', 'uninsured_under_6_2019', 'veterans_2019', 'white_2019', 'white_not_hispanic_2019']\n"
     ]
    }
   ],
   "source": [
    "print(merged_df.head())\n",
    "col_list = list(merged_df.columns)\n",
    "print(f\"Number of columns {len(col_list)}\")\n",
    "print(col_list)"
   ]
  },
  {
   "cell_type": "code",
   "execution_count": 17,
   "metadata": {},
   "outputs": [
    {
     "name": "stdout",
     "output_type": "stream",
     "text": [
      "     state   county majority  trump16  clinton16  otherpres16  romney12   \n",
      "0  Alabama  Autauga    Trump    18172       5936          865     17379  \\\n",
      "1  Alabama  Baldwin    Trump    72883      18458         3874     66016   \n",
      "2  Alabama  Barbour    Trump     5454       4871          144      5550   \n",
      "3  Alabama     Bibb    Trump     6738       1874          207      6132   \n",
      "4  Alabama   Blount    Trump    22859       2156          573     20757   \n",
      "\n",
      "   obama12  otherpres12  demsen16  ...  poverty_under_18_2019   \n",
      "0     6363          190    6331.0  ...                   23.2  \\\n",
      "1    18424          898   19145.0  ...                   13.4   \n",
      "2     5912           47    4777.0  ...                   50.1   \n",
      "3     2202           86    2082.0  ...                    NaN   \n",
      "4     2970          279    2980.0  ...                   18.4   \n",
      "\n",
      "   two_plus_races_2019  unemployment_rate_2019  uninsured_2019   \n",
      "0                  2.2                     3.5             7.1  \\\n",
      "1                  1.7                     4.0             8.9   \n",
      "2                  1.2                     9.4            11.3   \n",
      "3                  0.6                     7.0            10.7   \n",
      "4                  1.6                     3.1            10.8   \n",
      "\n",
      "   uninsured_65_and_older_2019  uninsured_under_19_2019   \n",
      "0                          0.0                      1.7  \\\n",
      "1                          0.3                      3.8   \n",
      "2                          0.3                      3.3   \n",
      "3                          0.0                      2.0   \n",
      "4                          0.2                      5.9   \n",
      "\n",
      "   uninsured_under_6_2019  veterans_2019  white_2019  white_not_hispanic_2019  \n",
      "0                     1.7           12.6        76.8                     74.6  \n",
      "1                     2.2           11.8        86.2                     83.1  \n",
      "2                     3.4            6.6        46.8                     45.8  \n",
      "3                     4.5            8.0        76.8                     74.5  \n",
      "4                     6.1            7.7        95.5                     86.9  \n",
      "\n",
      "[5 rows x 115 columns]\n",
      "Number of columns 115\n",
      "['state', 'county', 'majority', 'trump16', 'clinton16', 'otherpres16', 'romney12', 'obama12', 'otherpres12', 'demsen16', 'repsen16', 'othersen16', 'demhouse16', 'rephouse16', 'otherhouse16', 'total_population', 'cvap', 'white_pct', 'black_pct', 'hispanic_pct', 'nonwhite_pct', 'foreignborn_pct', 'female_pct', 'age29andunder_pct', 'age65andolder_pct', 'median_hh_inc', 'clf_unemploy_pct', 'lesshs_pct', 'lesscollege_pct', 'lesshs_whites_pct', 'lesscollege_whites_pct', 'rural_pct', 'age_under_5_2017', 'age_over_65_2017', 'median_age_2017', 'female_2010', 'white_2010', 'black_2017', 'native_2017', 'asian_2017', 'pac_isl_2017', 'other_single_race_2017', 'two_plus_races_2017', 'hispanic_2017', 'white_not_hispanic_2017', 'speak_english_only_2017', 'women_16_to_50_birth_rate_2017', 'hs_grad_2017', 'some_college_2017', 'bachelors_2017', 'veterans_2017', 'mean_work_travel_2017', 'broadband_2017', 'computer_2017', 'households_2017', 'persons_per_household_2017', 'per_capita_income_2017', 'median_household_income_2017', 'poverty_2017', 'poverty_age_under_5_2017', 'poverty_age_under_18_2017', 'uninsured_2017', 'uninsured_age_under_6_2017', 'uninsured_age_under_19_2017', 'uninsured_age_over_74_2017', 'civilian_labor_force_2017', 'employed_2017', 'unemployed_2017', 'unemployment_rate_2017', 'age_over_18_2019', 'age_over_65_2019', 'age_over_85_2019', 'age_under_5_2019', 'asian_2019', 'avg_family_size_2019', 'bachelors_2019', 'black_2019', 'hispanic_2019', 'household_has_broadband_2019', 'household_has_computer_2019', 'household_has_smartphone_2019', 'households_2019', 'households_speak_asian_or_pac_isl_2019', 'households_speak_limited_english_2019', 'households_speak_other_2019', 'households_speak_other_indo_euro_lang_2019', 'households_speak_spanish_2019', 'housing_mobile_homes_2019', 'housing_one_unit_structures_2019', 'housing_two_unit_structures_2019', 'hs_grad_2019', 'mean_household_income_2019', 'mean_work_travel_2019', 'median_age_2019', 'median_household_income_2019', 'median_individual_income_2019', 'median_individual_income_age_25plus_2019', 'native_2019', 'other_single_race_2019', 'pac_isl_2019', 'per_capita_income_2019', 'persons_per_household_2019', 'pop_2019', 'poverty_2019', 'poverty_65_and_over_2019', 'poverty_under_18_2019', 'two_plus_races_2019', 'unemployment_rate_2019', 'uninsured_2019', 'uninsured_65_and_older_2019', 'uninsured_under_19_2019', 'uninsured_under_6_2019', 'veterans_2019', 'white_2019', 'white_not_hispanic_2019']\n"
     ]
    }
   ],
   "source": [
    "new_df = pd.read_csv('../data/merged_data_2020_election.csv')\n",
    "print(new_df.head())\n",
    "col_list = list(new_df.columns)\n",
    "print(f\"Number of columns {len(col_list)}\")\n",
    "print(col_list)"
   ]
  },
  {
   "cell_type": "markdown",
   "metadata": {},
   "source": [
    "We need to perform one-hot encoding"
   ]
  },
  {
   "cell_type": "code",
   "execution_count": 26,
   "metadata": {},
   "outputs": [
    {
     "name": "stdout",
     "output_type": "stream",
     "text": [
      "['state', 'county', 'majority']\n",
      "float64\n",
      "0       1.1\n",
      "1       2.4\n",
      "2       4.1\n",
      "3       2.7\n",
      "4       3.9\n",
      "       ... \n",
      "3022    2.1\n",
      "3023    8.3\n",
      "3024    0.0\n",
      "3025    0.0\n",
      "3026    2.3\n",
      "Name: uninsured_age_under_6_2017, Length: 3027, dtype: float64\n"
     ]
    }
   ],
   "source": [
    "# Fix the 'uninsured' dtype rendering as type 'object'ArithmeticError\n",
    "non_numerical_cols = new_df.select_dtypes(exclude=['int64', 'float64']).columns\n",
    "non_numerical_cols = list(non_numerical_cols)\n",
    "print(non_numerical_cols)\n",
    "print(new_df['uninsured_age_under_6_2017'].dtype)\n",
    "new_df['uninsured_age_under_6_2017'] = new_df['uninsured_age_under_6_2017'].apply(lambda x: x if x != '-' else 0)\n",
    "new_df['uninsured_age_under_6_2017'] = new_df['uninsured_age_under_6_2017'].astype('float64')\n",
    "print(new_df['uninsured_age_under_6_2017'])"
   ]
  },
  {
   "cell_type": "code",
   "execution_count": null,
   "metadata": {},
   "outputs": [],
   "source": [
    "# Now lets apply one hot encoding to the 'state', 'county' & 'majority' column\n",
    "from sklearn.preprocessing import OneHotEncoder"
   ]
  },
  {
   "cell_type": "markdown",
   "metadata": {},
   "source": [
    "Let's preprocess the data"
   ]
  },
  {
   "cell_type": "code",
   "execution_count": 14,
   "metadata": {},
   "outputs": [
    {
     "ename": "ValueError",
     "evalue": "Cannot use mean strategy with non-numeric data:\ncould not convert string to float: 'Alabama'",
     "output_type": "error",
     "traceback": [
      "\u001b[1;31m---------------------------------------------------------------------------\u001b[0m",
      "\u001b[1;31mValueError\u001b[0m                                Traceback (most recent call last)",
      "\u001b[1;32mc:\\Users\\Odhran\\Documents\\statistical_analysis_3\\python_scripts\\data_set_up.ipynb Cell 9\u001b[0m line \u001b[0;36m5\n\u001b[0;32m      <a href='vscode-notebook-cell:/c%3A/Users/Odhran/Documents/statistical_analysis_3/python_scripts/data_set_up.ipynb#X11sZmlsZQ%3D%3D?line=1'>2</a>\u001b[0m \u001b[39mfrom\u001b[39;00m \u001b[39msklearn\u001b[39;00m\u001b[39m.\u001b[39;00m\u001b[39mimpute\u001b[39;00m \u001b[39mimport\u001b[39;00m SimpleImputer\n\u001b[0;32m      <a href='vscode-notebook-cell:/c%3A/Users/Odhran/Documents/statistical_analysis_3/python_scripts/data_set_up.ipynb#X11sZmlsZQ%3D%3D?line=3'>4</a>\u001b[0m imp \u001b[39m=\u001b[39m SimpleImputer(missing_values\u001b[39m=\u001b[39mnp\u001b[39m.\u001b[39mnan, strategy\u001b[39m=\u001b[39m\u001b[39m'\u001b[39m\u001b[39mmean\u001b[39m\u001b[39m'\u001b[39m)\n\u001b[1;32m----> <a href='vscode-notebook-cell:/c%3A/Users/Odhran/Documents/statistical_analysis_3/python_scripts/data_set_up.ipynb#X11sZmlsZQ%3D%3D?line=4'>5</a>\u001b[0m imp\u001b[39m.\u001b[39;49mfit(new_df)\n",
      "File \u001b[1;32mc:\\Python311\\Lib\\site-packages\\sklearn\\impute\\_base.py:390\u001b[0m, in \u001b[0;36mSimpleImputer.fit\u001b[1;34m(self, X, y)\u001b[0m\n\u001b[0;32m    381\u001b[0m \u001b[39mif\u001b[39;00m \u001b[39mself\u001b[39m\u001b[39m.\u001b[39mverbose \u001b[39m!=\u001b[39m \u001b[39m\"\u001b[39m\u001b[39mdeprecated\u001b[39m\u001b[39m\"\u001b[39m:\n\u001b[0;32m    382\u001b[0m     warnings\u001b[39m.\u001b[39mwarn(\n\u001b[0;32m    383\u001b[0m         \u001b[39m\"\u001b[39m\u001b[39mThe \u001b[39m\u001b[39m'\u001b[39m\u001b[39mverbose\u001b[39m\u001b[39m'\u001b[39m\u001b[39m parameter was deprecated in version \u001b[39m\u001b[39m\"\u001b[39m\n\u001b[0;32m    384\u001b[0m         \u001b[39m\"\u001b[39m\u001b[39m1.1 and will be removed in 1.3. A warning will \u001b[39m\u001b[39m\"\u001b[39m\n\u001b[1;32m   (...)\u001b[0m\n\u001b[0;32m    387\u001b[0m         \u001b[39mFutureWarning\u001b[39;00m,\n\u001b[0;32m    388\u001b[0m     )\n\u001b[1;32m--> 390\u001b[0m X \u001b[39m=\u001b[39m \u001b[39mself\u001b[39;49m\u001b[39m.\u001b[39;49m_validate_input(X, in_fit\u001b[39m=\u001b[39;49m\u001b[39mTrue\u001b[39;49;00m)\n\u001b[0;32m    392\u001b[0m \u001b[39m# default fill_value is 0 for numerical input and \"missing_value\"\u001b[39;00m\n\u001b[0;32m    393\u001b[0m \u001b[39m# otherwise\u001b[39;00m\n\u001b[0;32m    394\u001b[0m \u001b[39mif\u001b[39;00m \u001b[39mself\u001b[39m\u001b[39m.\u001b[39mfill_value \u001b[39mis\u001b[39;00m \u001b[39mNone\u001b[39;00m:\n",
      "File \u001b[1;32mc:\\Python311\\Lib\\site-packages\\sklearn\\impute\\_base.py:342\u001b[0m, in \u001b[0;36mSimpleImputer._validate_input\u001b[1;34m(self, X, in_fit)\u001b[0m\n\u001b[0;32m    336\u001b[0m \u001b[39mif\u001b[39;00m \u001b[39m\"\u001b[39m\u001b[39mcould not convert\u001b[39m\u001b[39m\"\u001b[39m \u001b[39min\u001b[39;00m \u001b[39mstr\u001b[39m(ve):\n\u001b[0;32m    337\u001b[0m     new_ve \u001b[39m=\u001b[39m \u001b[39mValueError\u001b[39;00m(\n\u001b[0;32m    338\u001b[0m         \u001b[39m\"\u001b[39m\u001b[39mCannot use \u001b[39m\u001b[39m{}\u001b[39;00m\u001b[39m strategy with non-numeric data:\u001b[39m\u001b[39m\\n\u001b[39;00m\u001b[39m{}\u001b[39;00m\u001b[39m\"\u001b[39m\u001b[39m.\u001b[39mformat(\n\u001b[0;32m    339\u001b[0m             \u001b[39mself\u001b[39m\u001b[39m.\u001b[39mstrategy, ve\n\u001b[0;32m    340\u001b[0m         )\n\u001b[0;32m    341\u001b[0m     )\n\u001b[1;32m--> 342\u001b[0m     \u001b[39mraise\u001b[39;00m new_ve \u001b[39mfrom\u001b[39;00m \u001b[39mNone\u001b[39;00m\n\u001b[0;32m    343\u001b[0m \u001b[39melse\u001b[39;00m:\n\u001b[0;32m    344\u001b[0m     \u001b[39mraise\u001b[39;00m ve\n",
      "\u001b[1;31mValueError\u001b[0m: Cannot use mean strategy with non-numeric data:\ncould not convert string to float: 'Alabama'"
     ]
    }
   ],
   "source": [
    "import numpy as np\n",
    "from sklearn.impute import SimpleImputer\n",
    "\n",
    "imp = SimpleImputer(missing_values=np.nan, strategy='mean')\n",
    "imp.fit(new_df)"
   ]
  }
 ],
 "metadata": {
  "kernelspec": {
   "display_name": "Python 3",
   "language": "python",
   "name": "python3"
  },
  "language_info": {
   "codemirror_mode": {
    "name": "ipython",
    "version": 3
   },
   "file_extension": ".py",
   "mimetype": "text/x-python",
   "name": "python",
   "nbconvert_exporter": "python",
   "pygments_lexer": "ipython3",
   "version": "3.11.2"
  }
 },
 "nbformat": 4,
 "nbformat_minor": 2
}
